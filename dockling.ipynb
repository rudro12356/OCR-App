{
 "cells": [
  {
   "metadata": {},
   "cell_type": "markdown",
   "source": [
    "### References\n",
    "1. https://docling-project.github.io/docling/examples/minimal/\n",
    "2. https://github.com/youssefHosni/To-Data-Beyond-/tree/main/LocalOCR_Application_SmolDocling"
   ],
   "id": "44bd0791923f7334"
  },
  {
   "cell_type": "code",
   "id": "initial_id",
   "metadata": {
    "collapsed": true,
    "ExecuteTime": {
     "end_time": "2025-03-27T17:09:46.834299Z",
     "start_time": "2025-03-27T17:09:46.831008Z"
    }
   },
   "source": [
    "import logging\n",
    "import time\n",
    "from pathlib import Path"
   ],
   "outputs": [],
   "execution_count": 1
  },
  {
   "metadata": {
    "ExecuteTime": {
     "end_time": "2025-03-27T17:10:15.491089Z",
     "start_time": "2025-03-27T17:10:06.567332Z"
    }
   },
   "cell_type": "code",
   "source": [
    "import pandas as pd\n",
    "\n",
    "from docling.document_converter import DocumentConverter"
   ],
   "id": "ebeed2a07039e389",
   "outputs": [
    {
     "name": "stderr",
     "output_type": "stream",
     "text": [
      "/opt/anaconda3/envs/OCR_APP/lib/python3.12/site-packages/tqdm/auto.py:21: TqdmWarning: IProgress not found. Please update jupyter and ipywidgets. See https://ipywidgets.readthedocs.io/en/stable/user_install.html\n",
      "  from .autonotebook import tqdm as notebook_tqdm\n"
     ]
    }
   ],
   "execution_count": 2
  },
  {
   "metadata": {
    "ExecuteTime": {
     "end_time": "2025-03-27T17:10:19.255941Z",
     "start_time": "2025-03-27T17:10:19.253391Z"
    }
   },
   "cell_type": "code",
   "source": "_log = logging.getLogger(__name__)",
   "id": "301655c0a09fbdc2",
   "outputs": [],
   "execution_count": 3
  },
  {
   "metadata": {
    "ExecuteTime": {
     "end_time": "2025-03-27T17:10:58.186086Z",
     "start_time": "2025-03-27T17:10:58.179766Z"
    }
   },
   "cell_type": "code",
   "source": [
    "def main():\n",
    "    logging.basicConfig(level=logging.INFO)\n",
    "\n",
    "    input_doc_path = Path(\"Data/2308.08859v2.pdf\")\n",
    "    output_dir = Path(\"scratch\")\n",
    "\n",
    "    doc_converter = DocumentConverter()\n",
    "\n",
    "    start_time = time.time()\n",
    "\n",
    "    conv_res = doc_converter.convert(input_doc_path)\n",
    "\n",
    "    output_dir.mkdir(parents=True, exist_ok=True)\n",
    "\n",
    "    doc_filename = conv_res.input.file.stem\n",
    "\n",
    "    # Export tables\n",
    "    for table_ix, table in enumerate(conv_res.document.tables):\n",
    "        table_df: pd.DataFrame = table.export_to_dataframe()\n",
    "        print(f\"## Table {table_ix}\")\n",
    "        print(table_df.to_markdown())\n",
    "\n",
    "        # Save the table as csv\n",
    "        element_csv_filename = output_dir / f\"{doc_filename}-table-{table_ix+1}.csv\"\n",
    "        _log.info(f\"Saving CSV table to {element_csv_filename}\")\n",
    "        table_df.to_csv(element_csv_filename)\n",
    "\n",
    "        # Save the table as html\n",
    "        element_html_filename = output_dir / f\"{doc_filename}-table-{table_ix+1}.html\"\n",
    "        _log.info(f\"Saving HTML table to {element_html_filename}\")\n",
    "        with element_html_filename.open(\"w\") as fp:\n",
    "            fp.write(table.export_to_html())\n",
    "\n",
    "    end_time = time.time() - start_time\n",
    "\n",
    "    _log.info(f\"Document converted and tables exported in {end_time:.2f} seconds.\")"
   ],
   "id": "d1e060d61d5df5c4",
   "outputs": [],
   "execution_count": 6
  },
  {
   "metadata": {
    "ExecuteTime": {
     "end_time": "2025-03-27T17:12:33.603451Z",
     "start_time": "2025-03-27T17:10:58.861879Z"
    }
   },
   "cell_type": "code",
   "source": [
    "if __name__ == \"__main__\":\n",
    "    main()"
   ],
   "id": "cc511a0268d7a2a3",
   "outputs": [
    {
     "name": "stderr",
     "output_type": "stream",
     "text": [
      "INFO:docling.document_converter:Going to convert document batch...\n",
      "INFO:docling.document_converter:Initializing pipeline for StandardPdfPipeline with options hash 3d2abd0e021741887551c73bd132b421\n",
      "INFO:docling.models.factories.base_factory:Loading plugin 'docling_defaults'\n",
      "INFO:docling.models.factories:Registered ocr engines: ['easyocr', 'ocrmac', 'rapidocr', 'tesserocr', 'tesseract']\n",
      "INFO:docling.utils.accelerator_utils:Accelerator device: 'mps'\n",
      "WARNING:easyocr.easyocr:Downloading detection model, please wait. This may take several minutes depending upon your network connection.\n",
      "INFO:easyocr.easyocr:Download complete\n",
      "WARNING:easyocr.easyocr:Downloading recognition model, please wait. This may take several minutes depending upon your network connection.\n",
      "INFO:easyocr.easyocr:Download complete.\n",
      "INFO:docling.utils.accelerator_utils:Accelerator device: 'mps'\n",
      "INFO:docling.utils.accelerator_utils:Accelerator device: 'mps'\n",
      "INFO:docling.models.factories.base_factory:Loading plugin 'docling_defaults'\n",
      "INFO:docling.models.factories:Registered picture descriptions: ['vlm', 'api']\n",
      "INFO:docling.pipeline.base_pipeline:Processing document 2308.08859v2.pdf\n",
      "INFO:docling.document_converter:Finished converting document 2308.08859v2.pdf in 94.67 sec.\n",
      "INFO:__main__:Saving CSV table to scratch/2308.08859v2-table-1.csv\n",
      "INFO:__main__:Saving HTML table to scratch/2308.08859v2-table-1.html\n",
      "INFO:__main__:Document converted and tables exported in 94.69 seconds.\n"
     ]
    },
    {
     "name": "stdout",
     "output_type": "stream",
     "text": [
      "## Table 0\n",
      "|    | Element pair   | η [a - 2 0 ]                      |\n",
      "|---:|:---------------|:----------------------------------|\n",
      "|  0 | H-H            | 0.000, 0.006, 0.016, 0.038, 0.099 |\n",
      "|  1 | H-O            | 0.000, 0.007, 0.019, 0.051, 0.166 |\n",
      "|  2 | H-Li           | 0.000, 0.005, 0.012, 0.025, 0.052 |\n",
      "|  3 | O-O            | 0.000, 0.004, 0.008, 0.015, 0.027 |\n",
      "|  4 | O-Li           | 0.000, 0.005, 0.012, 0.024, 0.051 |\n"
     ]
    }
   ],
   "execution_count": 7
  },
  {
   "metadata": {},
   "cell_type": "code",
   "outputs": [],
   "execution_count": null,
   "source": "",
   "id": "ce4ae967fa67da3e"
  }
 ],
 "metadata": {
  "kernelspec": {
   "display_name": "Python 3",
   "language": "python",
   "name": "python3"
  },
  "language_info": {
   "codemirror_mode": {
    "name": "ipython",
    "version": 2
   },
   "file_extension": ".py",
   "mimetype": "text/x-python",
   "name": "python",
   "nbconvert_exporter": "python",
   "pygments_lexer": "ipython2",
   "version": "2.7.6"
  }
 },
 "nbformat": 4,
 "nbformat_minor": 5
}
