{
 "cells": [
  {
   "cell_type": "code",
   "id": "initial_id",
   "metadata": {
    "collapsed": true,
    "ExecuteTime": {
     "end_time": "2025-03-27T15:51:09.093085Z",
     "start_time": "2025-03-27T15:51:08.997270Z"
    }
   },
   "source": [
    "import fitz\n",
    "import pymupdf"
   ],
   "outputs": [],
   "execution_count": 1
  },
  {
   "metadata": {
    "ExecuteTime": {
     "end_time": "2025-03-27T15:51:11.274275Z",
     "start_time": "2025-03-27T15:51:11.087034Z"
    }
   },
   "cell_type": "code",
   "source": [
    "doc = pymupdf.open(\"/Users/home/OCR APP/OCR-App/Data/2308.08859v2.pdf\")\n",
    "out = open(\"output.txt\", \"wb\")\n",
    "\n",
    "for page in doc:\n",
    "    text = page.get_text().encode(\"utf-8\")\n",
    "    out.write(text)\n",
    "    out.write(bytes((12,)))\n",
    "out.close()"
   ],
   "id": "15e90ca9b30df655",
   "outputs": [],
   "execution_count": 2
  },
  {
   "metadata": {
    "ExecuteTime": {
     "end_time": "2025-03-27T16:30:46.840666Z",
     "start_time": "2025-03-27T16:27:45.712939Z"
    }
   },
   "cell_type": "code",
   "source": [
    "from unstructured.partition.auto import partition\n",
    "\n",
    "elements = partition(\"/Users/home/OCR APP/OCR-App/Data/2308.08859v2.pdf\", infer_table_structure=True, # Required for table extraction\n",
    ")\n",
    "# print(\"\\n\\n\".join([str(el) for el in elements]))"
   ],
   "id": "8e5ffc2479eea95f",
   "outputs": [],
   "execution_count": 4
  },
  {
   "metadata": {
    "ExecuteTime": {
     "end_time": "2025-03-27T16:30:51.659011Z",
     "start_time": "2025-03-27T16:30:51.650567Z"
    }
   },
   "cell_type": "code",
   "source": [
    "tables = [el for el in elements if el.category == \"Table\"]\n",
    "\n",
    "print(tables[0].text)\n",
    "print(tables[0].metadata.text_as_html)"
   ],
   "id": "a4511ba3aa682a52",
   "outputs": [
    {
     "name": "stdout",
     "output_type": "stream",
     "text": [
      "Element pair η [a−2 0 ] H-H 0.000, 0.006, 0.016, 0.038, 0.099 H-O 0.000, 0.007, 0.019, 0.051, 0.166 H-Li 0.000, 0.005, 0.012, 0.025, 0.052 O-O 0.000, 0.004, 0.008, 0.015, 0.027 O-Li 0.000, 0.005, 0.012, 0.024, 0.051\n",
      "<table><thead><tr><th>Element pair</th><th>7 lag”</th></tr></thead><tbody><tr><td>H-H</td><td>0.000, 0.006, 0.016, 0.038, 0.099</td></tr><tr><td>H-O</td><td>0.000, 0.007, 0.019, 0.051, 0.166</td></tr><tr><td>H-Li</td><td>0.000, 0.005, 0.012, 0.025, 0.052</td></tr><tr><td colspan=\"2\">0-0 0.000, 0.004, 0.008, 0.015, 0.027</td></tr><tr><td>O-Li</td><td>0.000, 0.005, 0.012, 0.024, 0.051</td></tr></tbody></table>\n"
     ]
    }
   ],
   "execution_count": 5
  },
  {
   "metadata": {},
   "cell_type": "code",
   "outputs": [],
   "execution_count": null,
   "source": "",
   "id": "b111164543b9a098"
  }
 ],
 "metadata": {
  "kernelspec": {
   "display_name": "Python 3",
   "language": "python",
   "name": "python3"
  },
  "language_info": {
   "codemirror_mode": {
    "name": "ipython",
    "version": 2
   },
   "file_extension": ".py",
   "mimetype": "text/x-python",
   "name": "python",
   "nbconvert_exporter": "python",
   "pygments_lexer": "ipython2",
   "version": "2.7.6"
  }
 },
 "nbformat": 4,
 "nbformat_minor": 5
}
